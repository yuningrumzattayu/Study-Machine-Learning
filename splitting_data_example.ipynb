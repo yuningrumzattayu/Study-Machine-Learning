{
  "nbformat": 4,
  "nbformat_minor": 0,
  "metadata": {
    "colab": {
      "provenance": [],
      "authorship_tag": "ABX9TyM2IfJNJn+OVjm2QvBatMXu",
      "include_colab_link": true
    },
    "kernelspec": {
      "name": "python3",
      "display_name": "Python 3"
    },
    "language_info": {
      "name": "python"
    }
  },
  "cells": [
    {
      "cell_type": "markdown",
      "metadata": {
        "id": "view-in-github",
        "colab_type": "text"
      },
      "source": [
        "<a href=\"https://colab.research.google.com/github/yuningrumzattayu/Study-Machine-Learning/blob/main/splitting_data_example.ipynb\" target=\"_parent\"><img src=\"https://colab.research.google.com/assets/colab-badge.svg\" alt=\"Open In Colab\"/></a>"
      ]
    },
    {
      "cell_type": "code",
      "source": [
        "import pandas as pd\n",
        "\n",
        "Developer = pd.DataFrame({'Name' : ['Yuningrum Zattayu', 'Joko Mustopo', 'Dian Afriani'], 'Age':[30, 26, 22]})\n",
        "\n",
        "print(\"Machine Learning Developer di Indonesia :\\n\", Developer)\n"
      ],
      "metadata": {
        "colab": {
          "base_uri": "https://localhost:8080/"
        },
        "id": "iUtvXnVQaRpo",
        "outputId": "cc869ebb-f795-4168-ccac-7f57ddee2689"
      },
      "execution_count": 3,
      "outputs": [
        {
          "output_type": "stream",
          "name": "stdout",
          "text": [
            "Machine Learning Developer di Indonesia :\n",
            "                 Name  Age\n",
            "0  Yuningrum Zattayu   30\n",
            "1       Joko Mustopo   26\n",
            "2       Dian Afriani   22\n"
          ]
        }
      ]
    },
    {
      "cell_type": "code",
      "source": [
        "# spliting data\n",
        "Developer [['First', 'Last']] = Developer.Name.str.split(expand=True)\n",
        "print(\"\\n Split kolom 'Name', lalu tambahkan kedua kolom : \\n\", Developer)"
      ],
      "metadata": {
        "colab": {
          "base_uri": "https://localhost:8080/"
        },
        "id": "eOttQTqOcBfI",
        "outputId": "e45dac06-163c-44d2-87c3-8ce2b3be805b"
      },
      "execution_count": 4,
      "outputs": [
        {
          "output_type": "stream",
          "name": "stdout",
          "text": [
            "\n",
            " Split kolom 'Name', lalu tambahkan kedua kolom : \n",
            "                 Name  Age      First     Last\n",
            "0  Yuningrum Zattayu   30  Yuningrum  Zattayu\n",
            "1       Joko Mustopo   26       Joko  Mustopo\n",
            "2       Dian Afriani   22       Dian  Afriani\n"
          ]
        }
      ]
    }
  ]
}